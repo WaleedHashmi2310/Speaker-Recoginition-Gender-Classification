{
 "cells": [
  {
   "cell_type": "code",
   "execution_count": 98,
   "metadata": {
    "colab": {
     "base_uri": "https://localhost:8080/"
    },
    "id": "g4Zjy_ydsh41",
    "outputId": "efc68ebe-c12a-4533-fd3e-665d20f9c3cc"
   },
   "outputs": [
    {
     "name": "stdout",
     "output_type": "stream",
     "text": [
      "Requirement already satisfied: python_speech_features in /usr/local/lib/python3.6/dist-packages (0.6)\n",
      "Requirement already satisfied: mlxtend in /usr/local/lib/python3.6/dist-packages (0.14.0)\n",
      "Requirement already satisfied: numpy>=1.10.4 in /usr/local/lib/python3.6/dist-packages (from mlxtend) (1.18.5)\n",
      "Requirement already satisfied: setuptools in /usr/local/lib/python3.6/dist-packages (from mlxtend) (50.3.2)\n",
      "Requirement already satisfied: scikit-learn>=0.18 in /usr/local/lib/python3.6/dist-packages (from mlxtend) (0.22.2.post1)\n",
      "Requirement already satisfied: pandas>=0.17.1 in /usr/local/lib/python3.6/dist-packages (from mlxtend) (1.1.4)\n",
      "Requirement already satisfied: scipy>=0.17 in /usr/local/lib/python3.6/dist-packages (from mlxtend) (1.4.1)\n",
      "Requirement already satisfied: matplotlib>=1.5.1 in /usr/local/lib/python3.6/dist-packages (from mlxtend) (3.2.2)\n",
      "Requirement already satisfied: joblib>=0.11 in /usr/local/lib/python3.6/dist-packages (from scikit-learn>=0.18->mlxtend) (0.17.0)\n",
      "Requirement already satisfied: pytz>=2017.2 in /usr/local/lib/python3.6/dist-packages (from pandas>=0.17.1->mlxtend) (2018.9)\n",
      "Requirement already satisfied: python-dateutil>=2.7.3 in /usr/local/lib/python3.6/dist-packages (from pandas>=0.17.1->mlxtend) (2.8.1)\n",
      "Requirement already satisfied: pyparsing!=2.0.4,!=2.1.2,!=2.1.6,>=2.0.1 in /usr/local/lib/python3.6/dist-packages (from matplotlib>=1.5.1->mlxtend) (2.4.7)\n",
      "Requirement already satisfied: cycler>=0.10 in /usr/local/lib/python3.6/dist-packages (from matplotlib>=1.5.1->mlxtend) (0.10.0)\n",
      "Requirement already satisfied: kiwisolver>=1.0.1 in /usr/local/lib/python3.6/dist-packages (from matplotlib>=1.5.1->mlxtend) (1.3.1)\n",
      "Requirement already satisfied: six>=1.5 in /usr/local/lib/python3.6/dist-packages (from python-dateutil>=2.7.3->pandas>=0.17.1->mlxtend) (1.15.0)\n",
      "Collecting pycm\n",
      "\u001b[?25l  Downloading https://files.pythonhosted.org/packages/07/e0/de92301a06bf5e2d24e04edc178ee457b49dbad2606c3252949222110f4d/pycm-3.0-py2.py3-none-any.whl (61kB)\n",
      "\u001b[K     |████████████████████████████████| 71kB 3.5MB/s \n",
      "\u001b[?25hCollecting art>=1.8\n",
      "\u001b[?25l  Downloading https://files.pythonhosted.org/packages/83/37/c28d69ba1005889e8ff9633b8e7eccaaddc03549058a51ef5f51853cf183/art-5.1-py2.py3-none-any.whl (567kB)\n",
      "\u001b[K     |████████████████████████████████| 573kB 7.8MB/s \n",
      "\u001b[?25hRequirement already satisfied: numpy>=1.9.0 in /usr/local/lib/python3.6/dist-packages (from pycm) (1.18.5)\n",
      "Installing collected packages: art, pycm\n",
      "Successfully installed art-5.1 pycm-3.0\n"
     ]
    }
   ],
   "source": [
    "!pip install python_speech_features\n",
    "!pip install pycm"
   ]
  },
  {
   "cell_type": "code",
   "execution_count": 135,
   "metadata": {
    "id": "-1mKAlPisn1U"
   },
   "outputs": [],
   "source": [
    "import os\n",
    "import re\n",
    "import string\n",
    "import python_speech_features as mfcc\n",
    "from scipy.io.wavfile import read\n",
    "from glob import glob\n",
    "import math\n",
    "import matplotlib.pyplot as plt\n",
    "import seaborn as sns\n",
    "import numpy as np\n",
    "import pandas as pd\n",
    "import scipy\n",
    "import random\n",
    "from statistics import mode\n",
    "from collections import Counter\n",
    "from sklearn.metrics import accuracy_score, precision_score, recall_score, f1_score, confusion_matrix, multilabel_confusion_matrix\n",
    "from sklearn.metrics import plot_confusion_matrix\n",
    "from pycm import *\n",
    "pd.set_option('max_rows', 99999)\n",
    "pd.set_option('max_colwidth', 400)"
   ]
  },
  {
   "cell_type": "markdown",
   "metadata": {
    "id": "3a7918PSc-_5"
   },
   "source": [
    "## Multinomial Logistic Regression from Scratch"
   ]
  },
  {
   "cell_type": "code",
   "execution_count": 266,
   "metadata": {
    "id": "SXDQ4NJOs1Da"
   },
   "outputs": [],
   "source": [
    "def get_MFCC(audio, sr):\n",
    "    features = mfcc.mfcc(audio, sr, 0.025, 0.01, 13, appendEnergy = True)\n",
    "    return np.mean(features, axis=0)"
   ]
  },
  {
   "cell_type": "code",
   "execution_count": 267,
   "metadata": {
    "id": "b5vQ0y-Fs6FG"
   },
   "outputs": [],
   "source": [
    "def read_file(path):\n",
    "  stock_files=sorted(glob(path))\n",
    "  corpus=[]\n",
    "  for file_path in stock_files:\n",
    "    sr, audio = read(file_path)\n",
    "    features = get_MFCC(audio, sr)\n",
    "    corpus.append(features)\n",
    "  return corpus"
   ]
  },
  {
   "cell_type": "code",
   "execution_count": 268,
   "metadata": {
    "id": "1b7YDHYYw4hu"
   },
   "outputs": [],
   "source": [
    "def generate_data(path,path2):\n",
    "  temp=read_file(path)\n",
    "  temp2=read_file(path2)\n",
    "  male=pd.DataFrame(temp)\n",
    "  female=pd.DataFrame(temp2)\n",
    "  male['Gender']=1\n",
    "  female['Gender']=0\n",
    "  final=pd.concat([male,female],ignore_index=True)\n",
    "  labels=final['Gender']\n",
    "  final.drop('Gender', inplace=True, axis=1)\n",
    "  final=final.to_numpy()\n",
    "  labels=labels.to_numpy()\n",
    "  return final,labels"
   ]
  },
  {
   "cell_type": "code",
   "execution_count": 269,
   "metadata": {
    "id": "e30-LS0aLoe3"
   },
   "outputs": [],
   "source": [
    "def read_file_multiclass(path):\n",
    "  names = [os.path.basename(x) for x in glob(path)]\n",
    "  stock_files=sorted(glob(path + '/*'))\n",
    "  corpus=[]\n",
    "  labels=[]\n",
    "  for file_path in stock_files:\n",
    "    check=re.split(r'/[0-9]|/10',file_path)\n",
    "    check=re.split(r'/SPK',check[0])\n",
    "    check=re.split(r'_M|_F',check[1])\n",
    "    check=int(check[0])\n",
    "    labels.append(check)\n",
    "    sr, audio = read(file_path)\n",
    "    features = get_MFCC(audio, sr)\n",
    "    corpus.append(features)\n",
    "  return corpus,labels"
   ]
  },
  {
   "cell_type": "code",
   "execution_count": 270,
   "metadata": {
    "id": "xkvEKmJzHmBr"
   },
   "outputs": [],
   "source": [
    "def generate_data_multiclass(path):\n",
    "  feature,label=read_file_multiclass(path)\n",
    "  df=pd.DataFrame(feature)\n",
    "  labels=pd.DataFrame(label)\n",
    "  df=df.to_numpy()\n",
    "  labels=labels.to_numpy()\n",
    "  labels.astype(int)\n",
    "  return df,labels.flatten()"
   ]
  },
  {
   "cell_type": "code",
   "execution_count": 271,
   "metadata": {
    "id": "-lp77sBUhHSl"
   },
   "outputs": [],
   "source": [
    "def oneHot(y):\n",
    "  y_oneHot = (np.arange(np.max(y) + 1) == y[:, None]).astype(float)\n",
    "  return y_oneHot"
   ]
  },
  {
   "cell_type": "code",
   "execution_count": 272,
   "metadata": {
    "id": "gYiec1Tni927"
   },
   "outputs": [],
   "source": [
    "def softMax(z):\n",
    "  return (np.exp(z.T) / np.sum(np.exp(z), axis=1)).T"
   ]
  },
  {
   "cell_type": "code",
   "execution_count": 273,
   "metadata": {
    "id": "RKZoxI49ieol"
   },
   "outputs": [],
   "source": [
    "def predict(X, weights, biases):\n",
    "  scores = (X.dot(weights) + biases)\n",
    "  return softMax(scores)"
   ]
  },
  {
   "cell_type": "code",
   "execution_count": 274,
   "metadata": {
    "id": "u9lMQ_pI4gXy"
   },
   "outputs": [],
   "source": [
    "def assignLabel(probability):\n",
    "  return probability.argmax(axis=1)"
   ]
  },
  {
   "cell_type": "code",
   "execution_count": 275,
   "metadata": {
    "id": "gN5JpQg4jQe8"
   },
   "outputs": [],
   "source": [
    "def crossEntropy(X, y, weights, biases):\n",
    "  y_pred = predict(X, weights, biases)\n",
    "  return -np.sum(np.log(y_pred) * (y), axis=1)"
   ]
  },
  {
   "cell_type": "code",
   "execution_count": 276,
   "metadata": {
    "id": "UZCIVI7Lrzqn"
   },
   "outputs": [],
   "source": [
    "def cost(X, y, weights, biases):\n",
    "  return np.mean(crossEntropy(X, y, weights, biases))"
   ]
  },
  {
   "cell_type": "code",
   "execution_count": 277,
   "metadata": {
    "id": "Nzl9TDRUDqKx"
   },
   "outputs": [],
   "source": [
    "def batchGradientDescent(n, X, y, weights, biases, alpha, n_epoch):\n",
    "  m = X.shape[0]\n",
    "  y = oneHot(y)\n",
    "  J = list()\n",
    "  for epoch in range(n_epoch):\n",
    "    for j in np.arange(n):\n",
    "      y_pred = predict(X, weights, biases)\n",
    "      diff = np.subtract(y_pred[:,j],y[:,j])\n",
    "      mul = np.multiply(X.T, diff)\n",
    "      summ = np.sum(mul, axis = 1)\n",
    "      theta = summ*alpha*(1/m)\n",
    "      weights[:,j] = weights[:,j] - theta\n",
    "      biases[:,j] = biases[:,j] - alpha*((np.sum(diff))*(1/m))\n",
    "    J.append(cost(X,y,weights,biases))\n",
    "  return weights, biases, J\n"
   ]
  },
  {
   "cell_type": "code",
   "execution_count": 278,
   "metadata": {
    "id": "BXwlX6OgWIIf"
   },
   "outputs": [],
   "source": [
    "def evaluation(title, y_true, y_pred):\n",
    "  print(\"\\n\"+title+\"\\n\")\n",
    "\n",
    "  cm = ConfusionMatrix(actual_vector=y_true, predict_vector=y_pred)\n",
    "  cm.plot(cmap=plt.cm.Greens,number_label=True,plot_lib=\"matplotlib\")\n",
    "  plt.show()\n",
    "\n",
    "  print('\\nAccuracy: {:.2f}\\n'.format(accuracy_score(y_true, y_pred)*100))\n",
    "  print('Macro Precision: {:.2f}'.format(precision_score(y_true, y_pred, average='macro')*100))\n",
    "  print('Macro Recall: {:.2f}'.format(recall_score(y_true, y_pred, average='macro')*100))\n",
    "  print('Macro F1-score: {:.2f}\\n'.format(f1_score(y_true, y_pred, average='macro')*100))"
   ]
  },
  {
   "cell_type": "markdown",
   "metadata": {
    "id": "0CA3kbENby42"
   },
   "source": [
    "## Gender Classification"
   ]
  },
  {
   "cell_type": "markdown",
   "metadata": {
    "id": "XXrf66pHDdHV"
   },
   "source": [
    "### Training"
   ]
  },
  {
   "cell_type": "code",
   "execution_count": 279,
   "metadata": {
    "id": "z9LIbERcg8xu"
   },
   "outputs": [],
   "source": [
    "path='/content/Gender_Recognition/Train/*M/*'\n",
    "path2='/content/Gender_Recognition/Train/*F/*'\n",
    "X_train,y_train=generate_data(path,path2)"
   ]
  },
  {
   "cell_type": "code",
   "execution_count": 280,
   "metadata": {
    "id": "2Bv9_Z85dJ8p"
   },
   "outputs": [],
   "source": [
    "n_classes=2"
   ]
  },
  {
   "cell_type": "code",
   "execution_count": 281,
   "metadata": {
    "id": "Y1RwGIFIhXor"
   },
   "outputs": [],
   "source": [
    "weights = np.zeros((X_train.shape[1],n_classes), dtype= np.float64)\n",
    "biases = np.zeros((1, n_classes), dtype= np.float64)"
   ]
  },
  {
   "cell_type": "code",
   "execution_count": 282,
   "metadata": {
    "id": "jsw096OGdLv4"
   },
   "outputs": [],
   "source": [
    "alpha = 0.01\n",
    "n_epoch = 100"
   ]
  },
  {
   "cell_type": "code",
   "execution_count": 283,
   "metadata": {
    "id": "_KonfmITFSsa"
   },
   "outputs": [],
   "source": [
    "weights, biases, J = batchGradientDescent(n_classes, X_train, y_train, weights, biases, alpha, n_epoch)"
   ]
  },
  {
   "cell_type": "markdown",
   "metadata": {
    "id": "4Mikmj7yDmT1"
   },
   "source": [
    "###Validation"
   ]
  },
  {
   "cell_type": "code",
   "execution_count": 284,
   "metadata": {
    "id": "kGK3RIxXDsyF"
   },
   "outputs": [],
   "source": [
    "path='/content/Gender_Recognition/Valid/*M/*'\n",
    "path2='/content/Gender_Recognition/Valid/*F/*'\n",
    "X_valid,y_valid=generate_data(path,path2)"
   ]
  },
  {
   "cell_type": "code",
   "execution_count": 285,
   "metadata": {
    "id": "VSkv6aZTEIxr"
   },
   "outputs": [],
   "source": [
    "probabilities = predict(X_valid, weights, biases)"
   ]
  },
  {
   "cell_type": "code",
   "execution_count": 286,
   "metadata": {
    "id": "4TbRt5E5EIxs"
   },
   "outputs": [],
   "source": [
    "y_pred = assignLabel(probabilities)"
   ]
  },
  {
   "cell_type": "code",
   "execution_count": 287,
   "metadata": {
    "colab": {
     "base_uri": "https://localhost:8080/"
    },
    "id": "WdnuiullEIxt",
    "outputId": "291e93f0-18f7-49b1-8422-35206a43f096"
   },
   "outputs": [
    {
     "name": "stdout",
     "output_type": "stream",
     "text": [
      "\n",
      "Gender Classification - Validation\n",
      "\n",
      "Accuracy: 80.00\n",
      "\n"
     ]
    }
   ],
   "source": [
    "print('\\nGender Classification - Validation\\n\\nAccuracy: {:.2f}\\n'.format(accuracy_score(y_valid, y_pred)*100))"
   ]
  },
  {
   "cell_type": "code",
   "execution_count": 288,
   "metadata": {
    "colab": {
     "base_uri": "https://localhost:8080/",
     "height": 313
    },
    "id": "BcyDm_obky0j",
    "outputId": "e48c8796-f6ce-4c76-c5d3-af43b3c523af"
   },
   "outputs": [
    {
     "data": {
      "text/plain": [
       "Text(0.5, 1.0, 'Gender Classification - Cost vs Epoch')"
      ]
     },
     "execution_count": 288,
     "metadata": {
      "tags": []
     },
     "output_type": "execute_result"
    },
    {
     "data": {
      "image/png": "[encoded data removed]",
      "text/plain": [
       "<Figure size 432x288 with 1 Axes>"
      ]
     },
     "metadata": {
      "needs_background": "light",
      "tags": []
     },
     "output_type": "display_data"
    }
   ],
   "source": [
    "X=np.linspace(0, n_epoch, num=n_epoch)\n",
    "J = np.array(J)\n",
    "plt.ylabel('Cost')\n",
    "plt.xlabel('Epochs')\n",
    "plt.plot(X, J)\n",
    "plt.title('Gender Classification - Cost vs Epoch')"
   ]
  },
  {
   "cell_type": "markdown",
   "metadata": {
    "id": "-zgtFvvYD22d"
   },
   "source": [
    "###Testing"
   ]
  },
  {
   "cell_type": "code",
   "execution_count": 289,
   "metadata": {
    "id": "7MgWk2svHRd7"
   },
   "outputs": [],
   "source": [
    "path='/content/Gender_Recognition/Test/*M/*'\n",
    "path2='/content/Gender_Recognition/Test/*F/*'\n",
    "X_test,y_test=generate_data(path,path2)"
   ]
  },
  {
   "cell_type": "code",
   "execution_count": 290,
   "metadata": {
    "id": "f62rIKd1LHMS"
   },
   "outputs": [],
   "source": [
    "probabilities = predict(X_test, weights, biases)"
   ]
  },
  {
   "cell_type": "code",
   "execution_count": 291,
   "metadata": {
    "id": "0GWQk4bpLgkv"
   },
   "outputs": [],
   "source": [
    "y_pred = assignLabel(probabilities)"
   ]
  },
  {
   "cell_type": "code",
   "execution_count": 292,
   "metadata": {
    "colab": {
     "base_uri": "https://localhost:8080/",
     "height": 469
    },
    "id": "8jEArSfeLhN9",
    "outputId": "11d5d5a1-4db1-4185-bb60-7c588d5c9f72"
   },
   "outputs": [
    {
     "name": "stdout",
     "output_type": "stream",
     "text": [
      "\n",
      "Gender Classification - Testing\n",
      "\n"
     ]
    },
    {
     "data": {
      "image/png": "[encoded data removed]",
      "text/plain": [
       "<Figure size 432x288 with 2 Axes>"
      ]
     },
     "metadata": {
      "needs_background": "light",
      "tags": []
     },
     "output_type": "display_data"
    },
    {
     "name": "stdout",
     "output_type": "stream",
     "text": [
      "\n",
      "Accuracy: 83.53\n",
      "\n",
      "Macro Precision: 77.85\n",
      "Macro Recall: 73.65\n",
      "Macro F1-score: 75.33\n",
      "\n"
     ]
    }
   ],
   "source": [
    "(evaluation(\"Gender Classification - Testing\", y_test, y_pred))"
   ]
  },
  {
   "cell_type": "markdown",
   "metadata": {
    "id": "sdoPklZHbmqP"
   },
   "source": [
    "## Speaker Recognition"
   ]
  },
  {
   "cell_type": "markdown",
   "metadata": {
    "id": "eWDcoRVIG7f3"
   },
   "source": [
    "### Training"
   ]
  },
  {
   "cell_type": "code",
   "execution_count": 293,
   "metadata": {
    "id": "-sb88pSnHseI"
   },
   "outputs": [],
   "source": [
    "path='/content/Speaker_Recognition/Train/*'\n",
    "X_train,y_train=generate_data_multiclass(path)"
   ]
  },
  {
   "cell_type": "code",
   "execution_count": 294,
   "metadata": {
    "id": "4v9eibBAKFyT"
   },
   "outputs": [],
   "source": [
    "n_classes = 143"
   ]
  },
  {
   "cell_type": "code",
   "execution_count": 295,
   "metadata": {
    "id": "xPCBuH1AHxre"
   },
   "outputs": [],
   "source": [
    "weights = np.zeros((X_train.shape[1],n_classes), dtype= np.float64)\n",
    "biases = np.zeros((1, n_classes), dtype= np.float64)"
   ]
  },
  {
   "cell_type": "code",
   "execution_count": 296,
   "metadata": {
    "id": "H8mCi-fdcnh3"
   },
   "outputs": [],
   "source": [
    "alpha = 0.01\n",
    "n_epoch = 500"
   ]
  },
  {
   "cell_type": "code",
   "execution_count": 297,
   "metadata": {
    "id": "mkmeJ-ICIVkw"
   },
   "outputs": [],
   "source": [
    "weights, biases, J = batchGradientDescent(n_classes, X_train, y_train, weights, biases, alpha, n_epoch)"
   ]
  },
  {
   "cell_type": "markdown",
   "metadata": {
    "id": "xieUzpWLHTKK"
   },
   "source": [
    "### Validation"
   ]
  },
  {
   "cell_type": "code",
   "execution_count": 298,
   "metadata": {
    "id": "6gf3cZ7GHWea"
   },
   "outputs": [],
   "source": [
    "path='/content/Speaker_Recognition/Valid/*'\n",
    "X_valid,y_valid=generate_data_multiclass(path)"
   ]
  },
  {
   "cell_type": "code",
   "execution_count": 299,
   "metadata": {
    "id": "3mT_IvvuHltt"
   },
   "outputs": [],
   "source": [
    "probabilities = predict(X_valid, weights, biases)"
   ]
  },
  {
   "cell_type": "code",
   "execution_count": 300,
   "metadata": {
    "id": "7dDCehlrHltu"
   },
   "outputs": [],
   "source": [
    "y_pred = assignLabel(probabilities)"
   ]
  },
  {
   "cell_type": "code",
   "execution_count": 301,
   "metadata": {
    "colab": {
     "base_uri": "https://localhost:8080/",
     "height": 313
    },
    "id": "581_-6KFN56x",
    "outputId": "a457afef-e97d-418d-fa94-29e2bd867a16"
   },
   "outputs": [
    {
     "data": {
      "text/plain": [
       "Text(0.5, 1.0, 'Speaker Recognition - Cost vs Epoch')"
      ]
     },
     "execution_count": 301,
     "metadata": {
      "tags": []
     },
     "output_type": "execute_result"
    },
    {
     "data": {
      "image/png": "[encoded data removed]",
      "text/plain": [
       "<Figure size 432x288 with 1 Axes>"
      ]
     },
     "metadata": {
      "needs_background": "light",
      "tags": []
     },
     "output_type": "display_data"
    }
   ],
   "source": [
    "X=np.linspace(0, n_epoch, num=n_epoch)\n",
    "J = np.array(J)\n",
    "plt.ylabel('Cost')\n",
    "plt.xlabel('Epochs')\n",
    "plt.plot(X, J)\n",
    "plt.title('Speaker Recognition - Cost vs Epoch')"
   ]
  },
  {
   "cell_type": "code",
   "execution_count": 302,
   "metadata": {
    "colab": {
     "base_uri": "https://localhost:8080/"
    },
    "id": "mp2zFWD9LYDs",
    "outputId": "6c393ff7-75e4-44ea-ab25-54f05cb4dbff"
   },
   "outputs": [
    {
     "name": "stdout",
     "output_type": "stream",
     "text": [
      "\n",
      "Speaker Recognition - Validation\n",
      "\n",
      "Accuracy: 92.96\n",
      "\n"
     ]
    }
   ],
   "source": [
    "print('\\nSpeaker Recognition - Validation\\n\\nAccuracy: {:.2f}\\n'.format(accuracy_score(y_valid, y_pred)*100))"
   ]
  },
  {
   "cell_type": "markdown",
   "metadata": {
    "id": "y9s7RJXqHdhW"
   },
   "source": [
    "### Testing"
   ]
  },
  {
   "cell_type": "code",
   "execution_count": 303,
   "metadata": {
    "id": "RR5cKZtgJ_J1"
   },
   "outputs": [],
   "source": [
    "path='/content/Speaker_Recognition/Test/*'\n",
    "X_test,y_test=generate_data_multiclass(path)"
   ]
  },
  {
   "cell_type": "code",
   "execution_count": 304,
   "metadata": {
    "id": "DXUJzcMGRnq5"
   },
   "outputs": [],
   "source": [
    "probabilities = predict(X_test, weights, biases)"
   ]
  },
  {
   "cell_type": "code",
   "execution_count": 305,
   "metadata": {
    "id": "5orFCu-qIxVA"
   },
   "outputs": [],
   "source": [
    "y_pred = assignLabel(probabilities)"
   ]
  },
  {
   "cell_type": "code",
   "execution_count": 306,
   "metadata": {
    "colab": {
     "base_uri": "https://localhost:8080/",
     "height": 523
    },
    "id": "EkV-AYeUIxVB",
    "outputId": "ce14c86f-429c-4b60-e9b0-f02ca96b90a3"
   },
   "outputs": [
    {
     "name": "stdout",
     "output_type": "stream",
     "text": [
      "\n",
      "Speaker Recognition - Testing\n",
      "\n"
     ]
    },
    {
     "data": {
      "image/png": "[encoded data removed]",
      "text/plain": [
       "<Figure size 432x288 with 2 Axes>"
      ]
     },
     "metadata": {
      "needs_background": "light",
      "tags": []
     },
     "output_type": "display_data"
    },
    {
     "name": "stdout",
     "output_type": "stream",
     "text": [
      "\n",
      "Accuracy: 93.66\n",
      "\n",
      "Macro Precision: 94.84\n",
      "Macro Recall: 93.66\n",
      "Macro F1-score: 93.00\n",
      "\n"
     ]
    },
    {
     "name": "stderr",
     "output_type": "stream",
     "text": [
      "/usr/local/lib/python3.6/dist-packages/sklearn/metrics/_classification.py:1272: UndefinedMetricWarning: Precision is ill-defined and being set to 0.0 in labels with no predicted samples. Use `zero_division` parameter to control this behavior.\n",
      "  _warn_prf(average, modifier, msg_start, len(result))\n"
     ]
    }
   ],
   "source": [
    "(evaluation(\"Speaker Recognition - Testing\", y_test, y_pred))"
   ]
  },
  {
   "cell_type": "code",
   "execution_count": 306,
   "metadata": {
    "id": "EFGjuMg0iMP_"
   },
   "outputs": [],
   "source": []
  }
 ],
 "metadata": {
  "colab": {
   "collapsed_sections": [],
   "name": "Speaker_Gender_Classifier.ipynb",
   "provenance": []
  },
  "kernelspec": {
   "display_name": "Python 3",
   "language": "python",
   "name": "python3"
  },
  "language_info": {
   "codemirror_mode": {
    "name": "ipython",
    "version": 3
   },
   "file_extension": ".py",
   "mimetype": "text/x-python",
   "name": "python",
   "nbconvert_exporter": "python",
   "pygments_lexer": "ipython3",
   "version": "3.7.0"
  }
 },
 "nbformat": 4,
 "nbformat_minor": 1
}
